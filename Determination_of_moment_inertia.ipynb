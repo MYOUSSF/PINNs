{
  "cells": [
    {
      "cell_type": "markdown",
      "metadata": {
        "id": "view-in-github",
        "colab_type": "text"
      },
      "source": [
        "<a href=\"https://colab.research.google.com/github/MYOUSSF/PINNs/blob/main/Determination_of_moment_inertia.ipynb\" target=\"_parent\"><img src=\"https://colab.research.google.com/assets/colab-badge.svg\" alt=\"Open In Colab\"/></a>"
      ]
    },
    {
      "cell_type": "markdown",
      "metadata": {
        "id": "uVoXMmXGzxxk"
      },
      "source": [
        "# Identification of moment of inertia in satellites using orientations"
      ]
    },
    {
      "cell_type": "code",
      "source": [
        "import numpy as np\n",
        "import tensorflow as tf\n",
        "from tensorflow import keras\n",
        "from keras.layers import Dense\n",
        "import scipy\n",
        "from scipy.integrate import odeint, solve_ivp\n",
        "\n",
        "import matplotlib.pyplot as plt"
      ],
      "metadata": {
        "id": "OAEeK_UM54mi"
      },
      "execution_count": null,
      "outputs": []
    },
    {
      "cell_type": "markdown",
      "source": [
        "# The Euler equation for satellite motion\n",
        "$$\n",
        "\\mathbb{I} \\dot{ \\boldsymbol{\\Omega}} = -  \\boldsymbol{\\Omega} \\times \\mathbb{I} \\boldsymbol{\\Omega}+ \\mathbf{T} \\, .\n",
        "$$\n",
        "Here, $\\mathbb{I}$ is the moment of inertia (unknown) and $\\boldsymbol{\\Omega}$ is the angular velocity in the body frame.  The vector $\\mathbf{T}$ is the torque applied in the body frame. It is assumed that $\\boldsymbol{\\Omega}(t_i) = \\boldsymbol{\\Omega}_i$ can be measured experimentally at several times $t_1, \\ldots, t_n$. We will use these values of $\\boldsymbol{\\Omega}_i $ to try to determine $\\mathbb{I}$ using PINNs.\n",
        "\n",
        "Fiirst, we initialize true system and produce the data points $\\boldsymbol{\\Omega}_i$ from the true solution.\n",
        "\n",
        "We use $\\mathbb{I} = {\\rm diag}(1, 2,3)$ to produce the data with given initial condition.\n"
      ],
      "metadata": {
        "id": "Idi_0zZsbEuN"
      }
    },
    {
      "cell_type": "code",
      "source": [
        "tmax = 10\n",
        "nt = 100\n",
        "t_eval = np.linspace(0,tmax, nt)\n",
        "Omega0 = np.array([1, 1, -1])\n",
        "I_true = np.diag([1,2,3])\n",
        "I_true_inv = np.linalg.inv(I_true)"
      ],
      "metadata": {
        "id": "hw0asbUnYRX4"
      },
      "execution_count": null,
      "outputs": []
    },
    {
      "cell_type": "code",
      "source": [
        "def Torque(t, y, numerical):\n",
        "\n",
        "    if numerical == 0:\n",
        "        val = np.array([np.cos(t), np.sin(t),  np.cos(t)])\n",
        "    else:\n",
        "        T = [tf.cos(t), tf.sin(t), tf.cos(t)]\n",
        "        val = tf.squeeze(T)\n",
        "    return val\n",
        "\n",
        "\n",
        "def Euler_top(t, y, numerical):\n",
        "    nonlinear_term = np.cross(y, np.matmul(I_true, y))\n",
        "    dydt =  np.matmul(I_true_inv, - nonlinear_term + Torque(t, y, numerical))\n",
        "    return dydt\n",
        "\n",
        "\n",
        "sol = solve_ivp(Euler_top, [0, tmax], Omega0, t_eval=t_eval, args=[0])\n"
      ],
      "metadata": {
        "id": "H3GVdsJwZI8V"
      },
      "execution_count": null,
      "outputs": []
    },
    {
      "cell_type": "code",
      "source": [
        "\n",
        "plt.figure(1)\n",
        "plt.clf()\n",
        "t_sol = sol.t\n",
        "Omega_sol = sol.y\n",
        "plt.plot(t_sol, Omega_sol[1, :], 'ko-')\n"
      ],
      "metadata": {
        "colab": {
          "base_uri": "https://localhost:8080/",
          "height": 447
        },
        "id": "HZdHJUw9arEh",
        "outputId": "1fe34bc8-cf6f-49d8-b314-e2b2dc6029d7"
      },
      "execution_count": null,
      "outputs": [
        {
          "output_type": "execute_result",
          "data": {
            "text/plain": [
              "[<matplotlib.lines.Line2D at 0x7f7f7d1da140>]"
            ]
          },
          "metadata": {},
          "execution_count": 4
        },
        {
          "output_type": "display_data",
          "data": {
            "text/plain": [
              "<Figure size 640x480 with 1 Axes>"
            ],
            "image/png": "[encoded data removed]"
          },
          "metadata": {}
        }
      ]
    },
    {
      "cell_type": "markdown",
      "source": [
        "Next, we define the residue function for Euler's top with external torque"
      ],
      "metadata": {
        "id": "7MzruQGNnyI2"
      }
    },
    {
      "cell_type": "code",
      "execution_count": null,
      "metadata": {
        "id": "LuNzzYZzzK7R"
      },
      "outputs": [],
      "source": [
        "def Euler_eq_res(Omega, Omega_t, t, params):\n",
        "    #print('params =', params)\n",
        "    params = tf.squeeze(params)\n",
        "    a = params[0:3]\n",
        "    b = params[3:6]\n",
        "    #Moment of inertia\n",
        "    I =  [[a[0], b[0], b[1]],\n",
        "          [b[0], a[1], b[2]],\n",
        "          [b[1], b[2], a[2]]]\n",
        "    muT = tf.transpose(tf.matmul(I, Omega), [1, 0])\n",
        "    OmegaT = tf.transpose(Omega, [1, 0])\n",
        "    mu_t = tf.matmul(I, Omega_t)\n",
        "    nonlinear_term = tf.transpose(tf.linalg.cross(OmegaT, muT), [1, 0])\n",
        "\n",
        "    res = mu_t + nonlinear_term - Torque(t, Omega, 1)\n",
        "    return res\n"
      ]
    },
    {
      "cell_type": "markdown",
      "source": [
        "Time derivatives:"
      ],
      "metadata": {
        "id": "Gt3bp0Rgn5vw"
      }
    },
    {
      "cell_type": "code",
      "execution_count": null,
      "metadata": {
        "id": "1jHu497XzOJ4"
      },
      "outputs": [],
      "source": [
        "def get_derivatives(model, t):\n",
        "    with tf.GradientTape(persistent=True) as tape:\n",
        "        tape.watch(t)\n",
        "        Omega = model(t)\n",
        "        Omega_t = []\n",
        "        for j in range(3):\n",
        "            Omega_j = Omega[:, j:j+1]\n",
        "            Omega_t_j = tape.gradient(Omega_j, t)\n",
        "            Omega_t.append(Omega_t_j)\n",
        "    Omega_t = tf.squeeze(tf.stack(Omega_t))\n",
        "    Omega = tf.transpose(Omega, [1, 0])\n",
        "    del tape\n",
        "\n",
        "    return Omega, Omega_t\n"
      ]
    },
    {
      "cell_type": "markdown",
      "source": [
        "Defining the model and parameters. The parameter vector is $\\mathbf{p}=(\\mathbf{a}, \\mathbf{b})$, where vectors $\\mathbf{a}$ and $\\mathbf{b}$ define the symmetric matrix of moments of inertia\n",
        "$$\n",
        "\\mathbb{I} = \\left(\n",
        "  \\begin{array}{ccc}\n",
        "  a_1 & b_1 & b_2 \\\\\n",
        "  b_1 & a_2 & b_3 \\\\\n",
        "  b_2 & b_3 & a_3\n",
        "  \\end{array}\n",
        "  \\right)\n",
        "$$\n",
        "The true values are $\\mathbf{a}_* = (1,2,3)$ and $\\mathbf{b}_* = (0,0,0)$. The initial conditions are $\\mathbf{a} = (2, 3, 4)$ and $\\mathbf{b}=(-1,1,1)$."
      ],
      "metadata": {
        "id": "mYyRogkDcmVB"
      }
    },
    {
      "cell_type": "code",
      "source": [
        "# Starting guess for the parameters; remember that the real value is c_star = 3\n",
        "params = tf.Variable([2, 3, 4, -1, 1, 1])\n",
        "\n",
        "class Inertia_model(keras.Model):\n",
        "    def __init__(self,\n",
        "            output_dim=3,\n",
        "            num_layers=4,\n",
        "            size_layer=64,\n",
        "            activation=\"tanh\",\n",
        "            kernel_initializer='glorot_normal',\n",
        "            params = params,\n",
        "            **kwargs):\n",
        "        super().__init__(**kwargs)\n",
        "        self.num_layers = num_layers\n",
        "        self.output_dim = output_dim\n",
        "        self.params = params\n",
        "        # Define NN architecture\n",
        "        self.hidden = [Dense(size_layer,\n",
        "                             activation=activation,\n",
        "                             kernel_initializer=kernel_initializer)\n",
        "                           for _ in range(self.num_layers)]\n",
        "        self.out = Dense(output_dim)\n",
        "        a = tf.random.uniform((1, 3), 1, 5)\n",
        "        b = tf.random.uniform((1, 3), -1, 1)\n",
        "        self.params = tf.concat([a, b], -1)\n",
        "\n",
        "    def call(self, X):\n",
        "        \"\"\"Forward-pass through neural network.\"\"\"\n",
        "        for i in range(self.num_layers):\n",
        "            X = self.hidden[i](X)\n",
        "        return self.out(X)\n",
        "\n"
      ],
      "metadata": {
        "id": "03MFBSEtxHZ4"
      },
      "execution_count": null,
      "outputs": []
    },
    {
      "cell_type": "markdown",
      "source": [
        "Initializing and building the model"
      ],
      "metadata": {
        "id": "DG8UUfnNb-s7"
      }
    },
    {
      "cell_type": "code",
      "source": [
        "model = Inertia_model(\n",
        "    num_layers=5,\n",
        "    size_layer=64\n",
        "    )\n",
        "\n",
        "model.build(input_shape=(None,1))\n"
      ],
      "metadata": {
        "id": "xnLlU0K-x55Z"
      },
      "execution_count": null,
      "outputs": []
    },
    {
      "cell_type": "markdown",
      "source": [
        "The loss of the model with its gradient:"
      ],
      "metadata": {
        "id": "RqhRVecOn-d6"
      }
    },
    {
      "cell_type": "code",
      "execution_count": null,
      "metadata": {
        "id": "QF5_9PyxzQa2"
      },
      "outputs": [],
      "source": [
        "def loss_fn(model, t_int):\n",
        "    params = model.params\n",
        "\n",
        "    Omega, Omega_t = get_derivatives(model, t_int)\n",
        "\n",
        "    res = Euler_eq_res(Omega, Omega_t, t_int, params)\n",
        "\n",
        "    loss_res = tf.reduce_mean(res**2)\n",
        "\n",
        "    #print('shape of t=',tf.shape(t1))\n",
        "    #print('shape of m(t)=', tf.shape(model(t1)))\n",
        "    #print('shape of Omega=', tf.shape(Omega1))\n",
        "\n",
        "    # This loss computes the difference between predicted u from the model and true values\n",
        "    loss_params = tf.reduce_mean((model(t1) - Omega1)**2)\n",
        "\n",
        "    return loss_res + loss_params\n",
        "\n",
        "\n",
        "def loss_grad(model, t_int):\n",
        "\n",
        "    with tf.GradientTape(persistent=True) as tape:\n",
        "        tape.watch(model.trainable_variables)\n",
        "        loss = loss_fn(model, t_int)\n",
        "    # These are gradients with respect to the weights and parameters\n",
        "    grad_theta = tape.gradient(loss, model.trainable_variables)\n",
        "    del tape\n",
        "    return loss, grad_theta\n",
        "\n",
        "\n",
        "@tf.function\n",
        "def train_step(model, t_int):\n",
        "    # Compute current loss and gradient w.r.t. parameters\n",
        "    loss, grad_theta = loss_grad(model, t_int)\n",
        "\n",
        "    # Perform gradient descent step\n",
        "    optim.apply_gradients(zip(grad_theta, model.trainable_variables))\n",
        "\n",
        "    return loss"
      ]
    },
    {
      "cell_type": "markdown",
      "source": [
        "A function that generates a batch for data points during the training. We need interior points and other points for the initial condition."
      ],
      "metadata": {
        "id": "0SeiryUVoD5E"
      }
    },
    {
      "cell_type": "code",
      "source": [
        "def batch_generator(int_batch_size=100):\n",
        "    t_int = tf.random.uniform((int_batch_size, 1), 0, tmax)\n",
        "    return t_int\n"
      ],
      "metadata": {
        "id": "PXfCOpIYLnfy"
      },
      "execution_count": null,
      "outputs": []
    },
    {
      "cell_type": "markdown",
      "source": [
        "A class that defines the model we'll use throughout the notebook."
      ],
      "metadata": {
        "id": "RyaC8PVNoW0d"
      }
    },
    {
      "cell_type": "code",
      "execution_count": null,
      "metadata": {
        "id": "0lIKy5KGzVnT",
        "colab": {
          "base_uri": "https://localhost:8080/"
        },
        "outputId": "40be1cff-dea3-4536-e7ea-33298a9cbe36"
      },
      "outputs": [
        {
          "output_type": "stream",
          "name": "stdout",
          "text": [
            "Epoch 0 loss: 1.3443196\n",
            "Epoch 1000 loss: 0.13194343\n",
            "Epoch 2000 loss: 0.12784582\n",
            "Epoch 3000 loss: 0.1262881\n",
            "Epoch 4000 loss: 0.12593645\n",
            "Epoch 5000 loss: 0.12575983\n",
            "Epoch 6000 loss: 0.12561202\n",
            "Epoch 7000 loss: 0.12560351\n",
            "Epoch 8000 loss: 0.12531145\n",
            "Epoch 9000 loss: 0.12512395\n"
          ]
        }
      ],
      "source": [
        "# Number of training epochs\n",
        "N = 10000\n",
        "# learning rate\n",
        "learning_rate = 1e-4\n",
        "t1 = tf.transpose(tf.Variable([t_sol], dtype=tf.float32), [1, 0])\n",
        "Omega1 = tf.transpose(tf.Variable(Omega_sol, dtype=tf.float32), [1, 0])\n",
        "\n",
        "optim = keras.optimizers.Adam(learning_rate=learning_rate)\n",
        "hist = []\n",
        "t_int = batch_generator(100)\n",
        "for i in range(N):\n",
        "    loss = train_step(model, t_int)\n",
        "    hist.append(loss.numpy())\n",
        "\n",
        "    if i%1000 == 0:\n",
        "      print('Epoch',i,\"loss:\", loss.numpy())\n"
      ]
    },
    {
      "cell_type": "markdown",
      "source": [
        "Plotting the values"
      ],
      "metadata": {
        "id": "swDHQhzVovnx"
      }
    },
    {
      "cell_type": "code",
      "execution_count": null,
      "metadata": {
        "id": "Ig6SY1CyzYIa",
        "colab": {
          "base_uri": "https://localhost:8080/",
          "height": 466
        },
        "outputId": "96f2aac4-4ef1-45f8-ec7e-d6da46498676"
      },
      "outputs": [
        {
          "output_type": "execute_result",
          "data": {
            "text/plain": [
              "Text(0, 0.5, 'loss')"
            ]
          },
          "metadata": {},
          "execution_count": 33
        },
        {
          "output_type": "display_data",
          "data": {
            "text/plain": [
              "<Figure size 640x480 with 1 Axes>"
            ],
            "image/png": "[encoded data removed]"
          },
          "metadata": {}
        }
      ],
      "source": [
        "# Plot the learning curve\n",
        "plt.figure(2)\n",
        "plt.clf()\n",
        "plt.semilogy(range(len(hist)), np.array(hist))\n",
        "plt.xlabel('#epochs')\n",
        "plt.ylabel('loss')"
      ]
    },
    {
      "cell_type": "markdown",
      "source": [
        "The learned parameter is stored in `model.params`. Recall that the true value is $a=p[0:3] =(1,2,3)$ and $b =p[3:6]=(0,0,0)$"
      ],
      "metadata": {
        "id": "QLpiLjU7o8W_"
      }
    },
    {
      "cell_type": "code",
      "execution_count": null,
      "metadata": {
        "colab": {
          "base_uri": "https://localhost:8080/"
        },
        "id": "DX1GZRaj0jB0",
        "outputId": "0a969b1a-25f2-4384-aaae-c282006580bd"
      },
      "outputs": [
        {
          "output_type": "execute_result",
          "data": {
            "text/plain": [
              "<tf.Tensor: shape=(1, 6), dtype=float32, numpy=\n",
              "array([[ 3.641171  ,  3.5293756 ,  4.6063156 , -0.02696157, -0.97251844,\n",
              "         0.9244065 ]], dtype=float32)>"
            ]
          },
          "metadata": {},
          "execution_count": 34
        }
      ],
      "source": [
        "model.params"
      ]
    }
  ],
  "metadata": {
    "colab": {
      "provenance": [],
      "toc_visible": true,
      "gpuType": "T4",
      "include_colab_link": true
    },
    "kernelspec": {
      "display_name": "Python 3",
      "name": "python3"
    },
    "language_info": {
      "name": "python"
    },
    "accelerator": "GPU"
  },
  "nbformat": 4,
  "nbformat_minor": 0
}